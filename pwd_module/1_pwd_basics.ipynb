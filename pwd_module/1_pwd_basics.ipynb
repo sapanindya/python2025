{
 "cells": [
  {
   "cell_type": "code",
   "execution_count": 1,
   "id": "3d6867f0",
   "metadata": {},
   "outputs": [
    {
     "name": "stdout",
     "output_type": "stream",
     "text": [
      "uid from os module: 1000\n",
      "User Information from pwd module:\n",
      "Username: codespace\n",
      "Password: x\n"
     ]
    }
   ],
   "source": [
    "\n",
    "#The pwd module is a Unix-specific Python module that provides access to the user account and password database — typically stored in /etc/passwd.\n",
    "#Not Available on Windows systems.\n",
    "\n",
    "import pwd, os , getpass\n",
    "\n",
    "uid = os.getuid() # Get the current user's UID\n",
    "print(\"uid from os module:\",uid)\n",
    "\n",
    "user_info = pwd.getpwuid(uid) # Get the user information using the UID\n",
    "print(\"User Information from pwd module:\")\n",
    "print(\"Username:\", user_info.pw_name)\n",
    "print(\"Password:\", user_info.pw_passwd)\n"
   ]
  },
  {
   "cell_type": "code",
   "execution_count": 2,
   "id": "d3afa65e",
   "metadata": {},
   "outputs": [
    {
     "name": "stdout",
     "output_type": "stream",
     "text": [
      "user_id1: codespace\n"
     ]
    }
   ],
   "source": [
    "user_id1 = getpass.getuser()\n",
    "print(\"user_id1:\", user_id1)\n",
    "password1 = getpass.getpass(\"Enter your password: \")"
   ]
  },
  {
   "cell_type": "code",
   "execution_count": 3,
   "id": "54cf74e4",
   "metadata": {},
   "outputs": [
    {
     "data": {
      "text/plain": [
       "'kutta'"
      ]
     },
     "execution_count": 3,
     "metadata": {},
     "output_type": "execute_result"
    }
   ],
   "source": [
    "password1"
   ]
  },
  {
   "cell_type": "code",
   "execution_count": null,
   "id": "9e363cee",
   "metadata": {},
   "outputs": [],
   "source": [
    "import psycopg2\n",
    "\n",
    "#Example\n",
    "PGHOST= \"\" ,#\"ep-rapid-credit-a8r94t5e-pooler.eastus2.azure.neon.tech\"\n",
    "PGDATABASE=\"\",#\"neondb\"\n",
    "PGUSER=\"\",#\"neondb_owner\"\n",
    "PGPASSWORD=\"\",#\"npg_cHLPuKGe3n2a\"\n",
    "PGPORT=5432\n",
    "\n",
    "conn = psycopg2.connect(\n",
    "    host= PGHOST,\n",
    "    port=PGPORT,\n",
    "    dbname=PGDATABASE,\n",
    "    user=PGUSER,\n",
    "    password=PGPASSWORD\n",
    ")\n",
    "cur = conn.cursor()\n",
    "cur.execute(\"SELECT * FROM employee;\")\n",
    "data = cur.fetchall()       #fetchmany(3)\n",
    "conn.close()"
   ]
  },
  {
   "cell_type": "code",
   "execution_count": 2,
   "id": "1702c3a7",
   "metadata": {},
   "outputs": [
    {
     "name": "stdout",
     "output_type": "stream",
     "text": [
      "id\n",
      "first_name\n",
      "last_name\n",
      "email\n",
      "hire_date\n",
      "job_title\n",
      "salary\n",
      "department\n"
     ]
    }
   ],
   "source": [
    "for item in cur.description:\n",
    "    print(item.name)"
   ]
  },
  {
   "cell_type": "code",
   "execution_count": 3,
   "id": "0954cd7e",
   "metadata": {},
   "outputs": [],
   "source": [
    "\n",
    "columns = [item.name for item in cur.description]"
   ]
  },
  {
   "cell_type": "code",
   "execution_count": 16,
   "id": "14136cfe",
   "metadata": {},
   "outputs": [
    {
     "data": {
      "text/html": [
       "<div>\n",
       "<style scoped>\n",
       "    .dataframe tbody tr th:only-of-type {\n",
       "        vertical-align: middle;\n",
       "    }\n",
       "\n",
       "    .dataframe tbody tr th {\n",
       "        vertical-align: top;\n",
       "    }\n",
       "\n",
       "    .dataframe thead th {\n",
       "        text-align: right;\n",
       "    }\n",
       "</style>\n",
       "<table border=\"1\" class=\"dataframe\">\n",
       "  <thead>\n",
       "    <tr style=\"text-align: right;\">\n",
       "      <th></th>\n",
       "      <th>id</th>\n",
       "      <th>first_name</th>\n",
       "      <th>last_name</th>\n",
       "      <th>email</th>\n",
       "      <th>hire_date</th>\n",
       "      <th>job_title</th>\n",
       "      <th>salary</th>\n",
       "      <th>department</th>\n",
       "    </tr>\n",
       "  </thead>\n",
       "  <tbody>\n",
       "    <tr>\n",
       "      <th>0</th>\n",
       "      <td>1</td>\n",
       "      <td>John</td>\n",
       "      <td>Doe</td>\n",
       "      <td>john.doe@example.com</td>\n",
       "      <td>2022-01-15</td>\n",
       "      <td>Software Engineer</td>\n",
       "      <td>75000.00</td>\n",
       "      <td>Engineering</td>\n",
       "    </tr>\n",
       "    <tr>\n",
       "      <th>1</th>\n",
       "      <td>2</td>\n",
       "      <td>Jane</td>\n",
       "      <td>Smith</td>\n",
       "      <td>jane.smith@example.com</td>\n",
       "      <td>2021-11-01</td>\n",
       "      <td>Marketing Specialist</td>\n",
       "      <td>65000.00</td>\n",
       "      <td>Marketing</td>\n",
       "    </tr>\n",
       "    <tr>\n",
       "      <th>2</th>\n",
       "      <td>3</td>\n",
       "      <td>Michael</td>\n",
       "      <td>Johnson</td>\n",
       "      <td>michael.johnson@example.com</td>\n",
       "      <td>2022-03-10</td>\n",
       "      <td>Sales Representative</td>\n",
       "      <td>60000.00</td>\n",
       "      <td>Sales</td>\n",
       "    </tr>\n",
       "    <tr>\n",
       "      <th>3</th>\n",
       "      <td>4</td>\n",
       "      <td>Emily</td>\n",
       "      <td>Brown</td>\n",
       "      <td>emily.brown@example.com</td>\n",
       "      <td>2022-02-20</td>\n",
       "      <td>HR Manager</td>\n",
       "      <td>80000.00</td>\n",
       "      <td>Human Resources</td>\n",
       "    </tr>\n",
       "    <tr>\n",
       "      <th>4</th>\n",
       "      <td>5</td>\n",
       "      <td>David</td>\n",
       "      <td>Wilson</td>\n",
       "      <td>david.wilson@example.com</td>\n",
       "      <td>2021-09-05</td>\n",
       "      <td>Financial Analyst</td>\n",
       "      <td>70000.00</td>\n",
       "      <td>Finance</td>\n",
       "    </tr>\n",
       "    <tr>\n",
       "      <th>5</th>\n",
       "      <td>6</td>\n",
       "      <td>Anindya</td>\n",
       "      <td>Bose</td>\n",
       "      <td>anindya.bose@bose.com</td>\n",
       "      <td>2025-09-18</td>\n",
       "      <td>Director, AI</td>\n",
       "      <td>150000.00</td>\n",
       "      <td>Information Technology</td>\n",
       "    </tr>\n",
       "  </tbody>\n",
       "</table>\n",
       "</div>"
      ],
      "text/plain": [
       "   id first_name last_name                        email   hire_date  \\\n",
       "0   1       John       Doe         john.doe@example.com  2022-01-15   \n",
       "1   2       Jane     Smith       jane.smith@example.com  2021-11-01   \n",
       "2   3    Michael   Johnson  michael.johnson@example.com  2022-03-10   \n",
       "3   4      Emily     Brown      emily.brown@example.com  2022-02-20   \n",
       "4   5      David    Wilson     david.wilson@example.com  2021-09-05   \n",
       "5   6    Anindya      Bose        anindya.bose@bose.com  2025-09-18   \n",
       "\n",
       "              job_title     salary              department  \n",
       "0     Software Engineer   75000.00             Engineering  \n",
       "1  Marketing Specialist   65000.00               Marketing  \n",
       "2  Sales Representative   60000.00                   Sales  \n",
       "3            HR Manager   80000.00         Human Resources  \n",
       "4     Financial Analyst   70000.00                 Finance  \n",
       "5          Director, AI  150000.00  Information Technology  "
      ]
     },
     "metadata": {},
     "output_type": "display_data"
    }
   ],
   "source": [
    "import pandas as pd\n",
    "\n",
    "df = pd.DataFrame(data=data, columns= columns)\n",
    "\n",
    "display(df)\n"
   ]
  }
 ],
 "metadata": {
  "kernelspec": {
   "display_name": "Python 3",
   "language": "python",
   "name": "python3"
  },
  "language_info": {
   "codemirror_mode": {
    "name": "ipython",
    "version": 3
   },
   "file_extension": ".py",
   "mimetype": "text/x-python",
   "name": "python",
   "nbconvert_exporter": "python",
   "pygments_lexer": "ipython3",
   "version": "3.12.1"
  }
 },
 "nbformat": 4,
 "nbformat_minor": 5
}
